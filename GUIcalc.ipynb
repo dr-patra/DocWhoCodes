{
 "cells": [
  {
   "cell_type": "code",
   "execution_count": 1,
   "id": "9d817c68",
   "metadata": {
    "scrolled": true
   },
   "outputs": [],
   "source": [
    "#creating a GUI \n",
    "from tkinter import *\n",
    "\n",
    "root=Tk()\n",
    "\n",
    "root.title('GTA V')\n",
    "\n",
    "#CReating a label widget\n",
    "myLabel1=Label(root,text='Hello World!!')\n",
    "myLabel2=Label(root,text='Hello World!!')\n",
    "\n",
    "#shoving it to the screen\n",
    "myLabel1.pack()\n",
    "myLabel2.pack()\n",
    "\n",
    "root.mainloop()"
   ]
  },
  {
   "cell_type": "code",
   "execution_count": null,
   "id": "1f184041",
   "metadata": {},
   "outputs": [],
   "source": [
    "#creating a grid within GUI\n",
    "\n",
    "from tkinter import *\n",
    "root=Tk()\n",
    "\n",
    "root.title('Ye hui na baat')\n",
    "\n",
    "#Creating a grid\n",
    "myLabel1=Label(root,text='Apna Time Zaroor ayega')\n",
    "myLabel2=Label(root,text='Lagey raho Munna Bhai')\n",
    "\n",
    "#shoving it to the screen\n",
    "myLabel1.grid(row=0,column=0)\n",
    "myLabel2.grid(row=1,column=1)\n",
    "\n",
    "#loop the F up\n",
    "root.mainloop()"
   ]
  },
  {
   "cell_type": "code",
   "execution_count": 10,
   "id": "43c8e7fd",
   "metadata": {},
   "outputs": [],
   "source": [
    "#creating buttons\n",
    "from tkinter import *\n",
    "root = Tk()\n",
    "\n",
    "#Creating a function for my button\n",
    "def MyClick():\n",
    "    MyLabel = Label(root,text='I just did my first click')\n",
    "    MyLabel.pack()\n",
    "\n",
    "\n",
    "#CReating a button widget\n",
    "MyButton=Button(root,text='Click Me!',padx=100,pady=100,command=MyClick,fg='blue',bg='red')\n",
    "\n",
    "#shoving it to the screen\n",
    "MyButton.pack()\n",
    "\n",
    "root.mainloop()"
   ]
  },
  {
   "cell_type": "code",
   "execution_count": 19,
   "id": "ecfe7cae",
   "metadata": {},
   "outputs": [],
   "source": [
    "#creating buttons\n",
    "from tkinter import *\n",
    "root = Tk()\n",
    "\n",
    "\n",
    "#creating an input/entry function\n",
    "e = Entry(root)\n",
    "e.pack()\n",
    "\n",
    "#inserting words in the box\n",
    "e.insert(0,'Enter your name:')\n",
    "\n",
    "#Creating a function for my button\n",
    "def MyClick():\n",
    "    MyLabel = Label(root,text='Hello '+ e.get())\n",
    "    MyLabel.pack()\n",
    "\n",
    "\n",
    "#CReating a button widget\n",
    "MyButton=Button(root,text='Go ahead!',padx=100,pady=100,command=MyClick)\n",
    "\n",
    "#shoving it to the screen\n",
    "MyButton.pack()\n",
    "\n",
    "root.mainloop()"
   ]
  },
  {
   "cell_type": "code",
   "execution_count": null,
   "id": "112d10a0",
   "metadata": {},
   "outputs": [],
   "source": [
    "#creating buttons\n",
    "from tkinter import *\n",
    "root = Tk()\n",
    "root.title('Simple Keyboard')\n",
    "\n",
    "#creating an input/entry function\n",
    "e = Entry(root,width=35,borderwidth=5)\n",
    "e.grid(row=0,column=1)\n",
    "\n",
    "#inserting words in the box\n",
    "e.insert(0,'Enter number:')\n",
    "\n",
    "#Creating a function for my button\n",
    "def MyClick():\n",
    "    MyLabel = Label(root,text='Hello '+ e.get())\n",
    "    MyLabel.pack()\n",
    "\n",
    "\n",
    "#CReating a button widget\n",
    "MyButton=Button(root,text='Go ahead!',padx=100,pady=100,command=MyClick)\n",
    "\n",
    "#shoving it to the screen\n",
    "MyButton.grid(row=1,column=1)\n",
    "\n",
    "root.mainloop()"
   ]
  }
 ],
 "metadata": {
  "kernelspec": {
   "display_name": "Python 3 (ipykernel)",
   "language": "python",
   "name": "python3"
  },
  "language_info": {
   "codemirror_mode": {
    "name": "ipython",
    "version": 3
   },
   "file_extension": ".py",
   "mimetype": "text/x-python",
   "name": "python",
   "nbconvert_exporter": "python",
   "pygments_lexer": "ipython3",
   "version": "3.11.5"
  }
 },
 "nbformat": 4,
 "nbformat_minor": 5
}
